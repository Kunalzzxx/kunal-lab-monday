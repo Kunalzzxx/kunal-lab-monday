{
 "cells": [
  {
   "cell_type": "code",
   "execution_count": 15,
   "metadata": {},
   "outputs": [
    {
     "name": "stdout",
     "output_type": "stream",
     "text": [
      "Choose the sorting parameter:\n",
      "1. Age\n",
      "2. Name\n",
      "3. Salary\n",
      "Sorted Employee Table:\n",
      "Employee(emp_id=171G30, name=Ajay, age=45, salary=44000)\n",
      "Employee(emp_id=161F91, name=Himadri, age=38, salary=67500)\n",
      "Employee(emp_id=161F99, name=Jaya, age=51, salary=82100)\n",
      "Employee(emp_id=161E90, name=Raman, age=41, salary=56000)\n",
      "Employee(emp_id=171E20, name=Tejas, age=30, salary=55000)\n"
     ]
    }
   ],
   "source": [
    "class Employee:\n",
    "    def __init__(self, emp_id, name, age, salary):\n",
    "        self.emp_id = emp_id\n",
    "        self.name = name\n",
    "        self.age = age\n",
    "        self.salary = salary\n",
    "\n",
    "    def __repr__(self):\n",
    "        return f\"Employee(emp_id={self.emp_id}, name={self.name}, age={self.age}, salary={self.salary})\"\n",
    "\n",
    "\n",
    "def get_employee_list():\n",
    "    return [\n",
    "        Employee(\"161E90\", \"Raman\", 41, 56000),\n",
    "        Employee(\"161F91\", \"Himadri\", 38, 67500),\n",
    "        Employee(\"161F99\", \"Jaya\", 51, 82100),\n",
    "        Employee(\"171E20\", \"Tejas\", 30, 55000),\n",
    "        Employee(\"171G30\", \"Ajay\", 45, 44000),\n",
    "    ]\n",
    "\n",
    "\n",
    "def print_employee_list(employee_list):\n",
    "    for employee in employee_list:\n",
    "        print(employee)\n",
    "\n",
    "\n",
    "def sort_employee_list(employee_list, sorting_parameter):\n",
    "    if sorting_parameter == 1:\n",
    "        employee_list.sort(key=lambda employee: employee.age)\n",
    "    elif sorting_parameter == 2:\n",
    "        employee_list.sort(key=lambda employee: employee.name)\n",
    "    elif sorting_parameter == 3:\n",
    "        employee_list.sort(key=lambda employee: employee.salary)\n",
    "    else:\n",
    "        raise ValueError(\"Invalid sorting parameter\")\n",
    "\n",
    "\n",
    "def main():\n",
    "    employee_list = get_employee_list()\n",
    "\n",
    "    print(\"Choose the sorting parameter:\")\n",
    "    print(\"1. Age\")\n",
    "    print(\"2. Name\")\n",
    "    print(\"3. Salary\")\n",
    "\n",
    "    sorting_parameter = int(input(\"Enter the sorting parameter: \"))\n",
    "\n",
    "    sort_employee_list(employee_list, sorting_parameter)\n",
    "\n",
    "    print(\"Sorted Employee Table:\")\n",
    "    print_employee_list(employee_list)\n",
    "\n",
    "\n",
    "if __name__ == \"__main__\":\n",
    "    main()\n"
   ]
  }
 ],
 "metadata": {
  "kernelspec": {
   "display_name": "Python 3",
   "language": "python",
   "name": "python3"
  },
  "language_info": {
   "codemirror_mode": {
    "name": "ipython",
    "version": 3
   },
   "file_extension": ".py",
   "mimetype": "text/x-python",
   "name": "python",
   "nbconvert_exporter": "python",
   "pygments_lexer": "ipython3",
   "version": "3.10.8"
  },
  "orig_nbformat": 4
 },
 "nbformat": 4,
 "nbformat_minor": 2
}
